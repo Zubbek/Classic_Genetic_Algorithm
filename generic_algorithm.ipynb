{
 "cells": [
  {
   "cell_type": "code",
   "execution_count": 1,
   "metadata": {},
   "outputs": [
    {
     "name": "stdout",
     "output_type": "stream",
     "text": [
      "Requirement already satisfied: benchmark_functions in /opt/miniconda3/envs/OE/lib/python3.12/site-packages (1.1.3)\n",
      "Requirement already satisfied: numpy in /opt/miniconda3/envs/OE/lib/python3.12/site-packages (from benchmark_functions) (2.2.4)\n",
      "Requirement already satisfied: packaging in /opt/miniconda3/envs/OE/lib/python3.12/site-packages (from benchmark_functions) (24.2)\n"
     ]
    }
   ],
   "source": [
    "!pip install benchmark_functions\n",
    "!pip install scipy"
   ]
  },
  {
   "cell_type": "code",
   "execution_count": 2,
   "metadata": {},
   "outputs": [],
   "source": [
    "import random\n",
    "from math import log2, ceil\n",
    "from decimal import Decimal\n",
    "import benchmark_functions as bf\n",
    "import scipy\n",
    "\n",
    "class Chromosom:\n",
    "    def __init__(self, precision, variables_count, start_, end_):\n",
    "        self.precision = precision\n",
    "        self.variables_count = variables_count\n",
    "        self.start_ = start_\n",
    "        self.end_ = end_\n",
    "        self.chromosom_len = ceil(self.precision * log2(self.end_ - self.start_))\n",
    "        self.chromosoms = self._generate_chromosom()\n",
    "        self.decoded_chromosom = self._decode_chromosom()\n",
    "\n",
    "    def _generate_chromosom(self) -> list:\n",
    "      chromosoms = []\n",
    "      for i in range(self.variables_count):\n",
    "        chromosom = []\n",
    "        for i in range(self.chromosom_len):\n",
    "            chromosom.append(random.randint(0, 1))\n",
    "        chromosoms.append(chromosom)\n",
    "      return chromosoms\n",
    "\n",
    "    def _decode_chromosom(self) -> list:\n",
    "      decoded_chromosom = []\n",
    "      for chromosom in self.chromosoms:\n",
    "        decimal_number = sum(bit * (2 ** i) for i, bit in enumerate(reversed(chromosom)))\n",
    "        decoded = self.start_ + decimal_number * (self.end_ - self.start_) / (2 ** self.chromosom_len - 1)\n",
    "        decoded_chromosom.append(Decimal(decoded).quantize(Decimal(10) ** -self.precision))\n",
    "      return decoded_chromosom\n",
    "    \n",
    "    def __str__(self):\n",
    "        return f\"Chromosoms: {self.chromosoms} | Value in Decimal: {self.decoded_chromosom}\"\n",
    "\n",
    "\n",
    "class Individual:\n",
    "    def __init__(self, precision, variables_count, start_, end_):\n",
    "        self.chromosom = Chromosom(precision, variables_count, start_, end_)\n",
    "        self.variables_count = variables_count\n",
    "\n",
    "    def __str__(self):\n",
    "        return f\"{self.chromosom}\"\n",
    "\n",
    "\n",
    "class Population:\n",
    "    def __init__(self, variables_count, population_size, precision, start_, end_, func, optimum):\n",
    "        self.variables_count = variables_count\n",
    "        self.population_size = population_size\n",
    "        self.func = func \n",
    "        self.individuals = [Individual(precision, variables_count, start_, end_) for _ in range(self.population_size)]\n",
    "        self.optimum = 0 if optimum == \"min\" else 1\n",
    "        self.cell = self.getCell()\n",
    "        self.precision = precision\n",
    "\n",
    "    def getCell(self) -> dict:\n",
    "        \"\"\"Oblicza wartości funkcji celu dla populacji.\"\"\"\n",
    "        cell_dict = {}\n",
    "        X = self.getX()\n",
    "        for x in X:\n",
    "            x_tuple = tuple(x)  \n",
    "            cell_value = self.func(x) \n",
    "            cell_dict[x_tuple] = cell_value  \n",
    "        return cell_dict\n",
    "        \n",
    "    def getSortedCell(self) -> list[tuple[tuple[float], float]]:\n",
    "        \"\"\"Sortuje wartości funkcji celu.\"\"\"\n",
    "        return sorted(self.cell.items(), key=lambda item: item[1], reverse=self.optimum)\n",
    "\n",
    "    def getBestBySelection(self, percentage: float,) -> list:\n",
    "        \"\"\"Zwraca najlepsze osobniki według funkcji celu.\"\"\"\n",
    "        size = int(percentage * self.population_size / 100)\n",
    "        best_individuals = self.getSortedCell()\n",
    "        return best_individuals[:size]\n",
    "    \n",
    "    def getBestByTournament(self, k) -> list:\n",
    "      \"\"\"Zwraca najlepsze osobniki według funkcji celu.\"\"\"\n",
    "      if k > self.population_size:\n",
    "          raise ValueError(\"k parameter cannot be greater than population_size!\")\n",
    "      \n",
    "      cell = self.cell.copy()\n",
    "      best_individuals = []\n",
    "\n",
    "      for _ in range(k):\n",
    "          tournament = random.sample(list(cell.items()), int(self.population_size / k))  # Losujemy podzbiór\n",
    "          if self.optimum == 1:\n",
    "            best = max(tournament, key=lambda x: x[1])  # Wybieramy najlepszego osobnika (dla maksymalizacji)\n",
    "          else:\n",
    "            best = min(tournament, key=lambda x: x[1])  # Wybieramy najlepszego osobnika (dla minimalizacji)\n",
    "          best_individuals.append(best)\n",
    "          del cell[best[0]]  # Usuwamy wybranego osobnika\n",
    "\n",
    "      return best_individuals\n",
    "\n",
    "    def getBestByRulet(self) -> list:\n",
    "        \"\"\"Zwraca najlepsze osobniki według funkcji celu.\"\"\"\n",
    "        cell = self.cell.copy()\n",
    "        best_individuals = []\n",
    "        if self.optimum == 0:\n",
    "          cell = {key: 1/value for key, value in cell.items()}\n",
    "        total_fitness = sum(cell.values())\n",
    "        if total_fitness == 0:\n",
    "            raise ValueError(\"Total fitness is zero!\")\n",
    "\n",
    "        probabilities = {}\n",
    "        distribution = {}\n",
    "        distribution_value = 0\n",
    "\n",
    "        for value in cell.values():\n",
    "            probability = value / total_fitness\n",
    "            probabilities[value] = probability\n",
    "            distribution_value += probability\n",
    "            distribution[value] = distribution_value\n",
    "\n",
    "        if round(sum(probabilities.values())) != 1.0:\n",
    "            raise ValueError(\"Sum of probabilities is not equal to 1!\")\n",
    "        last_item = round(list(distribution.items())[-1][1])\n",
    "        if last_item != 1.0:\n",
    "            raise ValueError(\"Last distribution value is not equal to 1!\")\n",
    "        num = random.random()\n",
    "        for key, value in distribution.items():\n",
    "            if num <= value:\n",
    "                x = next(k for k, v in cell.items() if v == key)\n",
    "                best_individuals.append((x, self.cell[x]))  # Zapisujemy klucz + wartość\n",
    "                del cell[x]  # Usuwamy osobnika\n",
    "                break\n",
    "        return best_individuals\n",
    "\n",
    "    def getX(self) -> list:\n",
    "        \"\"\"Zwraca listę fenotypów (wartości zmiennych).\"\"\"\n",
    "        return [[float(x) for x in individual.chromosom.decoded_chromosom] for individual in self.individuals]\n",
    "\n",
    "    def __str__(self):\n",
    "        return \"\\n\".join(str(individual) for individual in self.individuals)\n",
    "\n"
   ]
  },
  {
   "cell_type": "code",
   "execution_count": 34,
   "metadata": {},
   "outputs": [
    {
     "name": "stdout",
     "output_type": "stream",
     "text": [
      "Chromosoms: [[1, 0, 0, 1, 1, 0, 1, 1, 0, 1, 0, 0, 0, 1, 0, 1, 1, 0, 1, 1, 0, 1, 0, 0, 1, 1, 1, 0, 0, 0, 1, 0, 0, 1, 1, 0, 1, 0, 1, 0, 1, 0, 1, 0], [0, 0, 1, 1, 0, 1, 1, 0, 1, 1, 0, 0, 1, 0, 1, 0, 0, 1, 0, 1, 0, 0, 0, 1, 1, 0, 0, 0, 0, 1, 1, 0, 0, 0, 0, 0, 0, 0, 0, 1, 0, 1, 1, 0], [0, 1, 1, 0, 0, 0, 1, 0, 0, 1, 1, 1, 0, 0, 0, 0, 1, 0, 1, 1, 0, 1, 1, 1, 1, 1, 0, 0, 0, 0, 0, 1, 0, 1, 1, 0, 0, 1, 0, 1, 0, 1, 0, 1], [1, 0, 1, 0, 1, 0, 1, 0, 0, 1, 0, 1, 0, 0, 0, 0, 1, 1, 0, 0, 1, 1, 0, 1, 1, 1, 1, 0, 0, 1, 1, 1, 1, 1, 1, 0, 0, 1, 1, 0, 1, 1, 1, 1], [0, 0, 0, 1, 0, 1, 0, 1, 1, 0, 1, 1, 0, 1, 0, 0, 0, 1, 1, 0, 1, 1, 0, 0, 1, 1, 1, 1, 0, 1, 0, 0, 1, 0, 0, 1, 0, 1, 0, 1, 1, 1, 1, 1]] | Value in Decimal: [Decimal('2.1306477600'), Decimal('-5.7195073087'), Decimal('-2.3093512589'), Decimal('3.3059095214'), Decimal('-8.3043134744')]\n"
     ]
    }
   ],
   "source": [
    "c = Chromosom(10, 5, -10, 10)\n",
    "chromosoms = c.chromosoms\n",
    "decoded_chromosom = c.decoded_chromosom\n",
    "print(c)\n"
   ]
  },
  {
   "cell_type": "code",
   "execution_count": 3,
   "metadata": {},
   "outputs": [
    {
     "data": {
      "text/plain": [
       "[((1.102796058, 6.2400302594, 7.6053796236), 1249.3997214449325)]"
      ]
     },
     "execution_count": 3,
     "metadata": {},
     "output_type": "execute_result"
    }
   ],
   "source": [
    "func = bf.Schwefel(n_dimensions=3)\n",
    "\n",
    "population = Population(3, 10, 10, -10, 10, func, \"min\")\n",
    "\n",
    "population.getBestByRulet()\n"
   ]
  },
  {
   "cell_type": "code",
   "execution_count": null,
   "metadata": {},
   "outputs": [],
   "source": []
  }
 ],
 "metadata": {
  "kernelspec": {
   "display_name": "Python 3.12.9 ('OE')",
   "language": "python",
   "name": "python3"
  },
  "language_info": {
   "codemirror_mode": {
    "name": "ipython",
    "version": 3
   },
   "file_extension": ".py",
   "mimetype": "text/x-python",
   "name": "python",
   "nbconvert_exporter": "python",
   "pygments_lexer": "ipython3",
   "version": "3.12.9"
  },
  "orig_nbformat": 4,
  "vscode": {
   "interpreter": {
    "hash": "46e812baa124ab4b6c23c3ef5514d75c06ce825179299f90a1d80a9640fdf716"
   }
  }
 },
 "nbformat": 4,
 "nbformat_minor": 2
}
