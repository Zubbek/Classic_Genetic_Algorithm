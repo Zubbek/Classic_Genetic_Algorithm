{
 "cells": [
  {
   "cell_type": "code",
   "execution_count": 8,
   "metadata": {
    "ExecuteTime": {
     "end_time": "2025-03-26T20:49:37.978974Z",
     "start_time": "2025-03-26T20:49:37.957414Z"
    }
   },
   "outputs": [],
   "source": [
    "import random\n",
    "from math import log2, ceil\n",
    "from decimal import Decimal\n",
    "import benchmark_functions as bf\n",
    "import scipy\n",
    "\n",
    "class Chromosom:\n",
    "    def __init__(self, precision, variables_count, start_, end_):\n",
    "        self.precision = precision\n",
    "        self.variables_count = variables_count\n",
    "        self.start_ = start_\n",
    "        self.end_ = end_\n",
    "        self.chromosom_len = ceil(self.precision * log2(self.end_ - self.start_))\n",
    "        self.chromosoms = self._generate_chromosom()\n",
    "        self.decoded_chromosom = self._decode_chromosom()\n",
    "\n",
    "    def _generate_chromosom(self) -> list:\n",
    "      chromosoms = []\n",
    "      for i in range(self.variables_count):\n",
    "        chromosom = []\n",
    "        for i in range(self.chromosom_len):\n",
    "            chromosom.append(random.randint(0, 1))\n",
    "        chromosoms.append(chromosom)\n",
    "      return chromosoms\n",
    "\n",
    "    def _decode_chromosom(self) -> list:\n",
    "      decoded_chromosom = []\n",
    "      for chromosom in self.chromosoms:\n",
    "        decimal_number = sum(bit * (2 ** i) for i, bit in enumerate(reversed(chromosom)))\n",
    "        decoded = self.start_ + decimal_number * (self.end_ - self.start_) / (2 ** self.chromosom_len - 1)\n",
    "        decoded_chromosom.append(Decimal(decoded).quantize(Decimal(10) ** -self.precision))\n",
    "      return decoded_chromosom\n",
    "    \n",
    "    def __str__(self):\n",
    "        return f\"Chromosoms: {self.chromosoms} | Value in Decimal: {self.decoded_chromosom}\"\n",
    "\n",
    "\n",
    "class Individual:\n",
    "    def __init__(self, precision, variables_count, start_, end_):\n",
    "        self.chromosom = Chromosom(precision, variables_count, start_, end_)\n",
    "        self.variables_count = variables_count\n",
    "\n",
    "    def __str__(self):\n",
    "        return f\"{self.chromosom}\"\n",
    "\n",
    "\n",
    "class Population:\n",
    "    def __init__(self, variables_count, population_size, precision, start_, end_, func, optimum):\n",
    "        self.variables_count = variables_count\n",
    "        self.population_size = population_size\n",
    "        self.func = func \n",
    "        self.individuals = [Individual(precision, variables_count, start_, end_) for _ in range(self.population_size)]\n",
    "        self.optimum = 0 if optimum == \"min\" else 1\n",
    "        self.cell = self.getCell()\n",
    "        self.precision = precision\n",
    "\n",
    "    def getCell(self) -> dict:\n",
    "        \"\"\"Oblicza wartości funkcji celu dla populacji.\"\"\"\n",
    "        cell_dict = {}\n",
    "        X = self.getX()\n",
    "        for x in X:\n",
    "            x_tuple = tuple(x)  \n",
    "            cell_value = self.func(x) \n",
    "            cell_dict[x_tuple] = cell_value  \n",
    "        return cell_dict\n",
    "        \n",
    "    def getSortedCell(self) -> list[tuple[tuple[float], float]]:\n",
    "        \"\"\"Sortuje wartości funkcji celu.\"\"\"\n",
    "        return sorted(self.cell.items(), key=lambda item: item[1], reverse=self.optimum)\n",
    "\n",
    "    def getBestBySelection(self, percentage: float,) -> list:\n",
    "        \"\"\"Zwraca najlepsze osobniki według funkcji celu.\"\"\"\n",
    "        size = int(percentage * self.population_size / 100)\n",
    "        best_individuals = self.getSortedCell()\n",
    "        return best_individuals[:size]\n",
    "      \n",
    "    # def getBestByTournament(self, k) -> list:\n",
    "    #     \"\"\"Zwraca najlepsze osobniki według funkcji celu.\"\"\"\n",
    "    #     if k > self.population_size:\n",
    "    #         raise ValueError(\"k parameter can not be grater then population_size!\")\n",
    "    #     cell = self.cell\n",
    "    #     best_individuals = []\n",
    "    #     for i in range(k):\n",
    "    #       for j in range(int(self.population_size/k)):\n",
    "    #         individual = random.choice(list(cell.items()))\n",
    "    #         best_individuals.append(individual)\n",
    "    #         cell.pop(individual.index)\n",
    "    #     return best_individuals\n",
    "    \n",
    "    def getBestByTournament(self, k) -> list:\n",
    "      \"\"\"Zwraca najlepsze osobniki według funkcji celu.\"\"\"\n",
    "      if k > self.population_size:\n",
    "          raise ValueError(\"k parameter cannot be greater than population_size!\")\n",
    "      \n",
    "      cell = self.cell.copy()\n",
    "      best_individuals = []\n",
    "\n",
    "      for _ in range(k):\n",
    "          tournament = random.sample(list(cell.items()), int(self.population_size / k))  # Losujemy podzbiór\n",
    "          if self.optimum == 1:\n",
    "            best = max(tournament, key=lambda x: x[1])  # Wybieramy najlepszego osobnika (dla maksymalizacji)\n",
    "          else:\n",
    "            best = min(tournament, key=lambda x: x[1])  # Wybieramy najlepszego osobnika (dla minimalizacji)\n",
    "          best_individuals.append(best)\n",
    "          del cell[best[0]]  # Usuwamy wybranego osobnika\n",
    "\n",
    "      return best_individuals\n",
    "\n",
    "    def getBestByRulet(self) -> list:\n",
    "        \"\"\"Zwraca najlepsze osobniki według funkcji celu.\"\"\"\n",
    "        cell = self.cell.copy()\n",
    "        best_individuals = []\n",
    "        if self.optimum == 0:\n",
    "          cell = {key: 1/value for key, value in cell.items()}\n",
    "        total_fitness = sum(cell.values())\n",
    "        if total_fitness == 0:\n",
    "            raise ValueError(\"Total fitness is zero!\")\n",
    "\n",
    "        probabilities = {}\n",
    "        distribution = {}\n",
    "        distribution_value = 0\n",
    "\n",
    "        for value in cell.values():\n",
    "            probability = value / total_fitness\n",
    "            probabilities[value] = probability\n",
    "            distribution_value += probability\n",
    "            distribution[value] = distribution_value\n",
    "\n",
    "        if round(sum(probabilities.values())) != 1.0:\n",
    "            raise ValueError(\"Sum of probabilities is not equal to 1!\")\n",
    "        last_item = round(list(distribution.items())[-1][1])\n",
    "        if last_item != 1.0:\n",
    "            raise ValueError(\"Last distribution value is not equal to 1!\")\n",
    "        num = random.random()\n",
    "        for key, value in distribution.items():\n",
    "            if num <= value:\n",
    "                x = next(k for k, v in cell.items() if v == key)\n",
    "                best_individuals.append((x, key))  # Zapisujemy klucz + wartość\n",
    "                del cell[x]  # Usuwamy osobnika\n",
    "                break\n",
    "        return best_individuals\n",
    "    \n",
    "    #krzyżowanie jednopunktowe\n",
    "    def single_point_crossover(self, parent1, parent2):\n",
    "        \"\"\"Krzyżowanie jednopunktowe dla chromosomów binarnych.\"\"\"\n",
    "        child1_chromosoms = []\n",
    "        child2_chromosoms = []\n",
    "    \n",
    "        print(\"Parent 1 chromosoms:\", parent1.chromosom.chromosoms)\n",
    "        print(\"Parent 2 chromosoms:\", parent2.chromosom.chromosoms)\n",
    "    \n",
    "        # Iterujemy po każdej zmiennej w chromosomie (bo może być ich kilka)\n",
    "        for p1_chromo, p2_chromo in zip(parent1.chromosom.chromosoms, parent2.chromosom.chromosoms):\n",
    "            end_of_range = len(p1_chromo)\n",
    "            k = random.randint(1, end_of_range - 1)  # Punkt krzyżowania (nie może być 0)\n",
    "            print(f\"Crossover point: {k}\")\n",
    "    \n",
    "            # Tworzymy nowe chromosomy dzieci\n",
    "            new_p1 = p1_chromo[:k] + p2_chromo[k:]\n",
    "            new_p2 = p2_chromo[:k] + p1_chromo[k:]\n",
    "    \n",
    "            child1_chromosoms.append(new_p1)\n",
    "            child2_chromosoms.append(new_p2)\n",
    "    \n",
    "        # Tworzymy nowe osobniki\n",
    "        child1 = Individual(parent1.chromosom.precision, parent1.variables_count, parent1.chromosom.start_, parent1.chromosom.end_)\n",
    "        child2 = Individual(parent2.chromosom.precision, parent2.variables_count, parent2.chromosom.start_, parent2.chromosom.end_)\n",
    "    \n",
    "        # Podmieniamy chromosomy na nowe\n",
    "        child1.chromosom.chromosoms = child1_chromosoms\n",
    "        child2.chromosom.chromosoms = child2_chromosoms\n",
    "    \n",
    "        print(\"Child 1 chromosoms:\", child1.chromosom.chromosoms)\n",
    "        print(\"Child 2 chromosoms:\", child2.chromosom.chromosoms)\n",
    "    \n",
    "        return child1, child2\n",
    "    \n",
    "    def population_after_single_point_crossover(self, crossover_rate=1.0):\n",
    "        \"\"\"Wykonuje jednopunktowe krzyżowanie dla całej populacji.\"\"\"\n",
    "        new_population = []\n",
    "        individuals = self.individuals[:]\n",
    "        random.shuffle(individuals)\n",
    "        \n",
    "        for i in range(0, len(individuals) - 1, 2):\n",
    "            parent1, parent2 = individuals[i], individuals[i + 1]\n",
    "            \n",
    "            if random.random() < crossover_rate:\n",
    "                child1, child2 = self.single_point_crossover(parent1, parent2)\n",
    "                new_population.extend([child1, child2])\n",
    "            else:\n",
    "                new_population.extend([parent1, parent2])\n",
    "        \n",
    "        self.individuals = new_population\n",
    "        \n",
    "    def getX(self) -> list:\n",
    "        \"\"\"Zwraca listę fenotypów (wartości zmiennych).\"\"\"\n",
    "        return [[float(x) for x in individual.chromosom.decoded_chromosom] for individual in self.individuals]\n",
    "\n",
    "    def __str__(self):\n",
    "        return \"\\n\".join(str(individual) for individual in self.individuals)\n",
    "\n"
   ]
  },
  {
   "cell_type": "markdown",
   "source": [],
   "metadata": {
    "collapsed": false
   }
  },
  {
   "cell_type": "code",
   "execution_count": 9,
   "metadata": {
    "ExecuteTime": {
     "end_time": "2025-03-26T20:49:40.933166Z",
     "start_time": "2025-03-26T20:49:40.928080Z"
    }
   },
   "outputs": [
    {
     "name": "stdout",
     "output_type": "stream",
     "text": [
      "Chromosoms: [[1, 1, 0, 1, 1, 0, 0, 0, 0, 0, 0, 0, 0, 1, 1, 0, 1, 1, 0, 1, 0, 1, 0, 0, 0, 0, 0, 1, 0, 1, 0, 1, 0, 1, 0, 0, 0, 1, 1, 0, 0, 1, 0, 1], [0, 1, 1, 0, 1, 1, 0, 0, 0, 1, 1, 0, 1, 1, 0, 0, 1, 1, 0, 0, 0, 1, 0, 0, 0, 1, 1, 1, 0, 0, 1, 1, 0, 1, 1, 1, 1, 1, 0, 1, 1, 1, 0, 0], [0, 0, 1, 1, 0, 1, 0, 0, 0, 1, 0, 0, 1, 0, 0, 0, 0, 0, 0, 0, 0, 1, 1, 0, 0, 1, 0, 0, 1, 1, 0, 0, 0, 1, 0, 1, 0, 0, 0, 0, 1, 0, 0, 0], [0, 1, 1, 0, 1, 1, 0, 1, 0, 0, 0, 0, 0, 0, 0, 0, 0, 1, 0, 0, 1, 0, 1, 0, 0, 1, 0, 1, 1, 0, 1, 1, 1, 1, 1, 0, 0, 0, 0, 0, 0, 0, 1, 0], [1, 0, 1, 1, 1, 0, 1, 0, 0, 0, 1, 1, 0, 1, 0, 0, 1, 1, 0, 1, 1, 0, 1, 1, 1, 1, 0, 0, 1, 1, 1, 1, 0, 1, 0, 0, 0, 1, 1, 1, 0, 1, 0, 0]] | Value in Decimal: [Decimal('6.8770838775'), Decimal('-1.5293068276'), Decimal('-5.9155198358'), Decimal('-1.4842863573'), Decimal('4.5473811742')]\n"
     ]
    }
   ],
   "source": [
    "c = Chromosom(10, 5, -10, 10)\n",
    "chromosoms = c.chromosoms\n",
    "decoded_chromosom = c.decoded_chromosom\n",
    "print(c)\n"
   ]
  },
  {
   "cell_type": "code",
   "execution_count": 10,
   "metadata": {
    "ExecuteTime": {
     "end_time": "2025-03-26T20:49:43.297395Z",
     "start_time": "2025-03-26T20:49:43.289901Z"
    }
   },
   "outputs": [
    {
     "data": {
      "text/plain": "[((9.3729967144, -0.5164328897, 7.6283515406), 0.0007976312793379219)]"
     },
     "execution_count": 10,
     "metadata": {},
     "output_type": "execute_result"
    }
   ],
   "source": [
    "func = bf.Schwefel(n_dimensions=3)\n",
    "\n",
    "population = Population(3, 10, 10, -10, 10, func, \"min\")\n",
    "\n",
    "population.getBestByRulet()\n"
   ]
  },
  {
   "cell_type": "code",
   "execution_count": 11,
   "metadata": {
    "ExecuteTime": {
     "end_time": "2025-03-26T20:49:46.040089Z",
     "start_time": "2025-03-26T20:49:46.034757Z"
    }
   },
   "outputs": [
    {
     "name": "stdout",
     "output_type": "stream",
     "text": [
      "Parent 1 chromosoms: [[1, 0, 1, 0, 1, 0, 1, 0, 0, 1, 1, 1, 1, 0, 0, 1, 0, 0, 0, 1, 0, 0, 0, 1, 1, 0, 0, 1, 0, 0, 0, 0, 1, 1, 0, 0, 1, 1, 0, 0, 0, 1, 1, 0], [0, 0, 1, 1, 0, 1, 1, 1, 0, 1, 0, 1, 0, 0, 0, 0, 1, 1, 1, 1, 0, 1, 0, 1, 1, 1, 0, 0, 0, 0, 1, 0, 0, 0, 1, 0, 1, 1, 0, 0, 0, 0, 0, 1], [1, 1, 1, 0, 0, 0, 0, 1, 1, 0, 1, 0, 1, 1, 1, 1, 0, 0, 1, 0, 0, 0, 1, 0, 1, 1, 1, 1, 1, 1, 0, 1, 0, 1, 1, 0, 1, 1, 0, 1, 0, 0, 0, 1]]\n",
      "Parent 2 chromosoms: [[0, 1, 0, 1, 1, 1, 1, 1, 1, 1, 1, 1, 0, 0, 1, 0, 1, 0, 0, 1, 0, 0, 0, 0, 0, 1, 0, 1, 0, 0, 1, 0, 0, 0, 0, 1, 1, 1, 0, 1, 0, 0, 1, 0], [1, 1, 0, 1, 0, 0, 0, 0, 1, 1, 0, 1, 1, 0, 1, 0, 0, 1, 1, 1, 1, 0, 1, 1, 1, 1, 1, 0, 1, 0, 1, 1, 1, 1, 1, 0, 1, 1, 1, 1, 0, 1, 1, 0], [1, 0, 0, 0, 1, 0, 0, 0, 0, 0, 1, 0, 1, 0, 1, 1, 1, 1, 0, 0, 0, 1, 0, 1, 0, 1, 1, 0, 1, 0, 1, 0, 0, 1, 1, 0, 0, 1, 0, 1, 0, 1, 1, 0]]\n",
      "Crossover point: 36\n",
      "Crossover point: 36\n",
      "Crossover point: 19\n",
      "Child 1 chromosoms: [[1, 0, 1, 0, 1, 0, 1, 0, 0, 1, 1, 1, 1, 0, 0, 1, 0, 0, 0, 1, 0, 0, 0, 1, 1, 0, 0, 1, 0, 0, 0, 0, 1, 1, 0, 0, 1, 1, 0, 1, 0, 0, 1, 0], [0, 0, 1, 1, 0, 1, 1, 1, 0, 1, 0, 1, 0, 0, 0, 0, 1, 1, 1, 1, 0, 1, 0, 1, 1, 1, 0, 0, 0, 0, 1, 0, 0, 0, 1, 0, 1, 1, 1, 1, 0, 1, 1, 0], [1, 1, 1, 0, 0, 0, 0, 1, 1, 0, 1, 0, 1, 1, 1, 1, 0, 0, 1, 0, 0, 1, 0, 1, 0, 1, 1, 0, 1, 0, 1, 0, 0, 1, 1, 0, 0, 1, 0, 1, 0, 1, 1, 0]]\n",
      "Child 2 chromosoms: [[0, 1, 0, 1, 1, 1, 1, 1, 1, 1, 1, 1, 0, 0, 1, 0, 1, 0, 0, 1, 0, 0, 0, 0, 0, 1, 0, 1, 0, 0, 1, 0, 0, 0, 0, 1, 1, 1, 0, 0, 0, 1, 1, 0], [1, 1, 0, 1, 0, 0, 0, 0, 1, 1, 0, 1, 1, 0, 1, 0, 0, 1, 1, 1, 1, 0, 1, 1, 1, 1, 1, 0, 1, 0, 1, 1, 1, 1, 1, 0, 1, 1, 0, 0, 0, 0, 0, 1], [1, 0, 0, 0, 1, 0, 0, 0, 0, 0, 1, 0, 1, 0, 1, 1, 1, 1, 0, 0, 0, 0, 1, 0, 1, 1, 1, 1, 1, 1, 0, 1, 0, 1, 1, 0, 1, 1, 0, 1, 0, 0, 0, 1]]\n",
      "Parent 1 chromosoms: [[1, 0, 1, 1, 1, 0, 1, 0, 0, 0, 1, 0, 1, 0, 0, 0, 1, 1, 1, 0, 0, 0, 1, 1, 0, 0, 1, 0, 0, 1, 0, 0, 0, 1, 0, 0, 0, 1, 0, 1, 1, 1, 1, 1], [0, 1, 0, 0, 1, 0, 0, 1, 1, 0, 0, 0, 1, 1, 0, 1, 1, 0, 1, 1, 0, 0, 0, 1, 0, 1, 1, 1, 1, 0, 0, 0, 1, 0, 1, 1, 1, 1, 0, 1, 0, 0, 0, 1], [0, 0, 1, 0, 0, 1, 0, 1, 0, 1, 0, 1, 1, 0, 0, 1, 0, 1, 0, 1, 0, 0, 1, 0, 1, 1, 1, 0, 0, 1, 1, 1, 0, 0, 0, 1, 0, 1, 0, 1, 1, 0, 0, 1]]\n",
      "Parent 2 chromosoms: [[1, 1, 1, 1, 0, 1, 1, 1, 1, 1, 1, 1, 1, 0, 0, 1, 0, 1, 1, 0, 1, 1, 1, 1, 1, 0, 0, 0, 0, 1, 0, 1, 1, 0, 1, 1, 0, 0, 0, 1, 1, 1, 0, 1], [0, 1, 1, 1, 1, 0, 0, 1, 0, 1, 1, 0, 0, 0, 1, 1, 1, 1, 0, 0, 0, 0, 0, 0, 1, 0, 1, 1, 0, 0, 0, 1, 0, 1, 1, 0, 0, 1, 1, 0, 0, 1, 0, 1], [1, 1, 1, 0, 0, 0, 0, 1, 1, 0, 1, 0, 0, 1, 0, 0, 1, 0, 0, 1, 0, 1, 0, 1, 0, 0, 0, 1, 0, 0, 1, 1, 0, 1, 1, 1, 0, 1, 0, 0, 1, 1, 1, 0]]\n",
      "Crossover point: 16\n",
      "Crossover point: 25\n",
      "Crossover point: 30\n",
      "Child 1 chromosoms: [[1, 0, 1, 1, 1, 0, 1, 0, 0, 0, 1, 0, 1, 0, 0, 0, 0, 1, 1, 0, 1, 1, 1, 1, 1, 0, 0, 0, 0, 1, 0, 1, 1, 0, 1, 1, 0, 0, 0, 1, 1, 1, 0, 1], [0, 1, 0, 0, 1, 0, 0, 1, 1, 0, 0, 0, 1, 1, 0, 1, 1, 0, 1, 1, 0, 0, 0, 1, 0, 0, 1, 1, 0, 0, 0, 1, 0, 1, 1, 0, 0, 1, 1, 0, 0, 1, 0, 1], [0, 0, 1, 0, 0, 1, 0, 1, 0, 1, 0, 1, 1, 0, 0, 1, 0, 1, 0, 1, 0, 0, 1, 0, 1, 1, 1, 0, 0, 1, 1, 1, 0, 1, 1, 1, 0, 1, 0, 0, 1, 1, 1, 0]]\n",
      "Child 2 chromosoms: [[1, 1, 1, 1, 0, 1, 1, 1, 1, 1, 1, 1, 1, 0, 0, 1, 1, 1, 1, 0, 0, 0, 1, 1, 0, 0, 1, 0, 0, 1, 0, 0, 0, 1, 0, 0, 0, 1, 0, 1, 1, 1, 1, 1], [0, 1, 1, 1, 1, 0, 0, 1, 0, 1, 1, 0, 0, 0, 1, 1, 1, 1, 0, 0, 0, 0, 0, 0, 1, 1, 1, 1, 1, 0, 0, 0, 1, 0, 1, 1, 1, 1, 0, 1, 0, 0, 0, 1], [1, 1, 1, 0, 0, 0, 0, 1, 1, 0, 1, 0, 0, 1, 0, 0, 1, 0, 0, 1, 0, 1, 0, 1, 0, 0, 0, 1, 0, 0, 1, 1, 0, 0, 0, 1, 0, 1, 0, 1, 1, 0, 0, 1]]\n",
      "Parent 1 chromosoms: [[1, 0, 1, 1, 1, 0, 1, 1, 1, 0, 1, 1, 0, 1, 1, 0, 0, 1, 1, 0, 0, 1, 0, 1, 1, 1, 0, 1, 0, 1, 1, 1, 0, 1, 0, 0, 1, 1, 1, 1, 0, 0, 0, 1], [1, 1, 1, 0, 1, 1, 1, 0, 1, 1, 0, 1, 1, 1, 0, 1, 0, 0, 1, 1, 0, 0, 1, 1, 0, 1, 0, 0, 1, 0, 0, 1, 1, 1, 0, 1, 0, 1, 0, 1, 1, 0, 0, 1], [1, 1, 1, 1, 1, 1, 0, 0, 0, 1, 1, 1, 0, 0, 1, 1, 0, 1, 0, 0, 1, 0, 0, 0, 1, 0, 0, 0, 0, 0, 1, 0, 1, 1, 1, 0, 0, 1, 1, 0, 0, 0, 1, 0]]\n",
      "Parent 2 chromosoms: [[0, 0, 0, 0, 0, 1, 0, 1, 0, 0, 0, 0, 0, 0, 1, 1, 1, 0, 0, 0, 0, 0, 0, 0, 1, 1, 1, 1, 0, 1, 1, 1, 0, 1, 0, 1, 1, 0, 0, 0, 1, 0, 1, 0], [1, 1, 1, 0, 0, 1, 1, 1, 0, 0, 0, 1, 1, 1, 1, 1, 1, 1, 0, 0, 1, 1, 1, 0, 1, 0, 1, 0, 0, 1, 0, 0, 0, 1, 0, 0, 0, 1, 1, 1, 0, 1, 1, 1], [0, 0, 1, 1, 0, 1, 1, 1, 0, 0, 0, 1, 1, 1, 0, 1, 0, 0, 0, 0, 0, 0, 1, 1, 1, 0, 0, 0, 0, 0, 0, 1, 1, 0, 0, 1, 1, 0, 0, 1, 1, 0, 0, 0]]\n",
      "Crossover point: 9\n",
      "Crossover point: 28\n",
      "Crossover point: 37\n",
      "Child 1 chromosoms: [[1, 0, 1, 1, 1, 0, 1, 1, 1, 0, 0, 0, 0, 0, 1, 1, 1, 0, 0, 0, 0, 0, 0, 0, 1, 1, 1, 1, 0, 1, 1, 1, 0, 1, 0, 1, 1, 0, 0, 0, 1, 0, 1, 0], [1, 1, 1, 0, 1, 1, 1, 0, 1, 1, 0, 1, 1, 1, 0, 1, 0, 0, 1, 1, 0, 0, 1, 1, 0, 1, 0, 0, 0, 1, 0, 0, 0, 1, 0, 0, 0, 1, 1, 1, 0, 1, 1, 1], [1, 1, 1, 1, 1, 1, 0, 0, 0, 1, 1, 1, 0, 0, 1, 1, 0, 1, 0, 0, 1, 0, 0, 0, 1, 0, 0, 0, 0, 0, 1, 0, 1, 1, 1, 0, 0, 0, 0, 1, 1, 0, 0, 0]]\n",
      "Child 2 chromosoms: [[0, 0, 0, 0, 0, 1, 0, 1, 0, 0, 1, 1, 0, 1, 1, 0, 0, 1, 1, 0, 0, 1, 0, 1, 1, 1, 0, 1, 0, 1, 1, 1, 0, 1, 0, 0, 1, 1, 1, 1, 0, 0, 0, 1], [1, 1, 1, 0, 0, 1, 1, 1, 0, 0, 0, 1, 1, 1, 1, 1, 1, 1, 0, 0, 1, 1, 1, 0, 1, 0, 1, 0, 1, 0, 0, 1, 1, 1, 0, 1, 0, 1, 0, 1, 1, 0, 0, 1], [0, 0, 1, 1, 0, 1, 1, 1, 0, 0, 0, 1, 1, 1, 0, 1, 0, 0, 0, 0, 0, 0, 1, 1, 1, 0, 0, 0, 0, 0, 0, 1, 1, 0, 0, 1, 1, 1, 1, 0, 0, 0, 1, 0]]\n",
      "Parent 1 chromosoms: [[1, 1, 0, 1, 0, 1, 0, 1, 1, 0, 0, 0, 0, 0, 0, 1, 0, 1, 1, 0, 0, 0, 0, 0, 0, 1, 0, 0, 0, 0, 0, 1, 0, 0, 1, 1, 0, 0, 0, 0, 1, 0, 1, 0], [0, 1, 0, 1, 0, 0, 1, 1, 0, 1, 1, 1, 1, 0, 0, 1, 0, 0, 0, 1, 1, 0, 0, 0, 1, 0, 0, 1, 1, 1, 0, 0, 0, 1, 1, 0, 1, 1, 0, 0, 0, 1, 1, 1], [0, 0, 1, 1, 0, 0, 0, 1, 1, 1, 0, 0, 0, 0, 1, 1, 0, 0, 0, 0, 0, 0, 0, 1, 0, 1, 0, 1, 1, 1, 0, 0, 0, 0, 0, 1, 1, 0, 1, 1, 1, 0, 0, 0]]\n",
      "Parent 2 chromosoms: [[0, 1, 1, 1, 1, 0, 0, 1, 0, 0, 1, 0, 0, 0, 0, 1, 0, 1, 0, 0, 0, 0, 1, 1, 0, 0, 0, 0, 0, 0, 1, 0, 1, 0, 0, 1, 1, 0, 1, 0, 1, 1, 1, 0], [0, 1, 0, 1, 0, 0, 0, 1, 0, 0, 0, 0, 1, 1, 1, 1, 1, 1, 1, 0, 1, 0, 1, 0, 1, 0, 1, 1, 1, 1, 0, 0, 1, 0, 0, 0, 1, 1, 0, 1, 1, 0, 1, 1], [0, 1, 0, 1, 1, 1, 1, 1, 1, 1, 0, 0, 1, 0, 0, 0, 0, 0, 1, 0, 1, 0, 0, 1, 1, 0, 0, 1, 0, 0, 1, 1, 0, 0, 0, 0, 1, 1, 0, 1, 0, 1, 1, 1]]\n",
      "Crossover point: 15\n",
      "Crossover point: 43\n",
      "Crossover point: 11\n",
      "Child 1 chromosoms: [[1, 1, 0, 1, 0, 1, 0, 1, 1, 0, 0, 0, 0, 0, 0, 1, 0, 1, 0, 0, 0, 0, 1, 1, 0, 0, 0, 0, 0, 0, 1, 0, 1, 0, 0, 1, 1, 0, 1, 0, 1, 1, 1, 0], [0, 1, 0, 1, 0, 0, 1, 1, 0, 1, 1, 1, 1, 0, 0, 1, 0, 0, 0, 1, 1, 0, 0, 0, 1, 0, 0, 1, 1, 1, 0, 0, 0, 1, 1, 0, 1, 1, 0, 0, 0, 1, 1, 1], [0, 0, 1, 1, 0, 0, 0, 1, 1, 1, 0, 0, 1, 0, 0, 0, 0, 0, 1, 0, 1, 0, 0, 1, 1, 0, 0, 1, 0, 0, 1, 1, 0, 0, 0, 0, 1, 1, 0, 1, 0, 1, 1, 1]]\n",
      "Child 2 chromosoms: [[0, 1, 1, 1, 1, 0, 0, 1, 0, 0, 1, 0, 0, 0, 0, 1, 0, 1, 1, 0, 0, 0, 0, 0, 0, 1, 0, 0, 0, 0, 0, 1, 0, 0, 1, 1, 0, 0, 0, 0, 1, 0, 1, 0], [0, 1, 0, 1, 0, 0, 0, 1, 0, 0, 0, 0, 1, 1, 1, 1, 1, 1, 1, 0, 1, 0, 1, 0, 1, 0, 1, 1, 1, 1, 0, 0, 1, 0, 0, 0, 1, 1, 0, 1, 1, 0, 1, 1], [0, 1, 0, 1, 1, 1, 1, 1, 1, 1, 0, 0, 0, 0, 1, 1, 0, 0, 0, 0, 0, 0, 0, 1, 0, 1, 0, 1, 1, 1, 0, 0, 0, 0, 0, 1, 1, 0, 1, 1, 1, 0, 0, 0]]\n",
      "Parent 1 chromosoms: [[1, 1, 1, 1, 0, 1, 0, 0, 1, 0, 1, 1, 1, 1, 1, 0, 0, 1, 1, 0, 0, 1, 1, 1, 1, 0, 1, 1, 1, 0, 0, 1, 0, 1, 0, 1, 0, 1, 1, 0, 1, 1, 0, 0], [0, 0, 0, 0, 1, 1, 0, 0, 1, 1, 0, 1, 1, 1, 0, 1, 1, 0, 1, 1, 1, 1, 0, 1, 0, 0, 0, 0, 1, 1, 0, 0, 1, 0, 1, 1, 0, 0, 0, 1, 0, 1, 1, 0], [1, 0, 1, 0, 0, 1, 1, 0, 0, 0, 0, 1, 0, 0, 0, 0, 1, 0, 1, 1, 1, 0, 1, 1, 0, 1, 0, 1, 1, 1, 1, 0, 1, 0, 1, 0, 0, 1, 0, 1, 1, 1, 1, 0]]\n",
      "Parent 2 chromosoms: [[1, 0, 0, 0, 1, 1, 0, 1, 1, 0, 1, 1, 0, 1, 0, 1, 1, 0, 1, 1, 0, 1, 1, 1, 1, 1, 0, 1, 0, 0, 1, 0, 0, 1, 0, 0, 0, 1, 0, 0, 1, 0, 1, 1], [1, 1, 1, 0, 0, 0, 0, 1, 1, 1, 1, 0, 1, 1, 1, 1, 0, 1, 1, 1, 1, 0, 0, 0, 0, 0, 1, 1, 1, 0, 1, 0, 1, 0, 1, 0, 0, 0, 1, 1, 0, 1, 1, 1], [0, 1, 1, 1, 0, 0, 0, 0, 1, 0, 0, 0, 0, 1, 0, 0, 0, 0, 1, 0, 0, 1, 0, 0, 1, 1, 1, 1, 0, 1, 0, 1, 0, 1, 0, 0, 1, 0, 0, 0, 1, 1, 1, 0]]\n",
      "Crossover point: 28\n",
      "Crossover point: 22\n",
      "Crossover point: 13\n",
      "Child 1 chromosoms: [[1, 1, 1, 1, 0, 1, 0, 0, 1, 0, 1, 1, 1, 1, 1, 0, 0, 1, 1, 0, 0, 1, 1, 1, 1, 0, 1, 1, 0, 0, 1, 0, 0, 1, 0, 0, 0, 1, 0, 0, 1, 0, 1, 1], [0, 0, 0, 0, 1, 1, 0, 0, 1, 1, 0, 1, 1, 1, 0, 1, 1, 0, 1, 1, 1, 1, 0, 0, 0, 0, 1, 1, 1, 0, 1, 0, 1, 0, 1, 0, 0, 0, 1, 1, 0, 1, 1, 1], [1, 0, 1, 0, 0, 1, 1, 0, 0, 0, 0, 1, 0, 1, 0, 0, 0, 0, 1, 0, 0, 1, 0, 0, 1, 1, 1, 1, 0, 1, 0, 1, 0, 1, 0, 0, 1, 0, 0, 0, 1, 1, 1, 0]]\n",
      "Child 2 chromosoms: [[1, 0, 0, 0, 1, 1, 0, 1, 1, 0, 1, 1, 0, 1, 0, 1, 1, 0, 1, 1, 0, 1, 1, 1, 1, 1, 0, 1, 1, 0, 0, 1, 0, 1, 0, 1, 0, 1, 1, 0, 1, 1, 0, 0], [1, 1, 1, 0, 0, 0, 0, 1, 1, 1, 1, 0, 1, 1, 1, 1, 0, 1, 1, 1, 1, 0, 0, 1, 0, 0, 0, 0, 1, 1, 0, 0, 1, 0, 1, 1, 0, 0, 0, 1, 0, 1, 1, 0], [0, 1, 1, 1, 0, 0, 0, 0, 1, 0, 0, 0, 0, 0, 0, 0, 1, 0, 1, 1, 1, 0, 1, 1, 0, 1, 0, 1, 1, 1, 1, 0, 1, 0, 1, 0, 0, 1, 0, 1, 1, 1, 1, 0]]\n"
     ]
    }
   ],
   "source": [
    "population.population_after_single_point_crossover()"
   ]
  }
 ],
 "metadata": {
  "kernelspec": {
   "display_name": "Python 3 (ipykernel)",
   "language": "python",
   "name": "python3"
  },
  "language_info": {
   "codemirror_mode": {
    "name": "ipython",
    "version": 3
   },
   "file_extension": ".py",
   "mimetype": "text/x-python",
   "name": "python",
   "nbconvert_exporter": "python",
   "pygments_lexer": "ipython3",
   "version": "3.12.3"
  },
  "vscode": {
   "interpreter": {
    "hash": "46e812baa124ab4b6c23c3ef5514d75c06ce825179299f90a1d80a9640fdf716"
   }
  }
 },
 "nbformat": 4,
 "nbformat_minor": 4
}
