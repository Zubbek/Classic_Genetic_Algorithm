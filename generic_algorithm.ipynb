{
 "cells": [
  {
   "cell_type": "code",
   "execution_count": 50,
   "metadata": {},
   "outputs": [],
   "source": [
    "import random\n",
    "from math import log2, ceil\n",
    "from decimal import Decimal\n",
    "import benchmark_functions as bf\n",
    "import scipy\n",
    "\n",
    "class Chromosom:\n",
    "    def __init__(self, precision, variables_count, start_, end_):\n",
    "        self.precision = precision\n",
    "        self.variables_count = variables_count\n",
    "        self.start_ = start_\n",
    "        self.end_ = end_\n",
    "        self.chromosom_len = ceil(self.precision * log2(self.end_ - self.start_))\n",
    "        self.chromosoms = self._generate_chromosom()\n",
    "        self.decoded_chromosom = self._decode_chromosom()\n",
    "\n",
    "    def _generate_chromosom(self) -> list:\n",
    "      chromosoms = []\n",
    "      for i in range(self.variables_count):\n",
    "        chromosom = []\n",
    "        for i in range(self.chromosom_len):\n",
    "            chromosom.append(random.randint(0, 1))\n",
    "        chromosoms.append(chromosom)\n",
    "      return chromosoms\n",
    "\n",
    "    def _decode_chromosom(self) -> list:\n",
    "      decoded_chromosom = []\n",
    "      for chromosom in self.chromosoms:\n",
    "        decimal_number = sum(bit * (2 ** i) for i, bit in enumerate(reversed(chromosom)))\n",
    "        decoded = self.start_ + decimal_number * (self.end_ - self.start_) / (2 ** self.chromosom_len - 1)\n",
    "        decoded_chromosom.append(Decimal(decoded).quantize(Decimal(10) ** -self.precision))\n",
    "      return decoded_chromosom\n",
    "    \n",
    "    def __str__(self):\n",
    "        return f\"Chromosoms: {self.chromosoms} | Value in Decimal: {self.decoded_chromosom}\"\n",
    "\n",
    "\n",
    "class Individual:\n",
    "    def __init__(self, precision, variables_count, start_, end_):\n",
    "        self.chromosom = Chromosom(precision, variables_count, start_, end_)\n",
    "        self.variables_count = variables_count\n",
    "\n",
    "    def __str__(self):\n",
    "        return f\"{self.chromosom}\"\n",
    "\n",
    "\n",
    "class Population:\n",
    "    def __init__(self, variables_count, population_size, precision, start_, end_):\n",
    "        self.variables_count = variables_count\n",
    "        self.population_size = population_size\n",
    "        self.individuals = [Individual(precision, variables_count, start_, end_) for _ in range(self.population_size)]\n",
    "\n",
    "    def __call__(self, func: any):\n",
    "        cell_values = []\n",
    "        X = self.getX()\n",
    "        for x in X:\n",
    "            cell_value = func(x)\n",
    "            cell_values.append(cell_value)\n",
    "        return cell_values\n",
    "    \n",
    "    def getX(self) -> list:\n",
    "        X = []\n",
    "        for individual in self.individuals:\n",
    "            values = individual.chromosom.decoded_chromosom\n",
    "            values = [float(x) for x in values]\n",
    "            X.append(values)\n",
    "        return X\n",
    "\n",
    "    def __str__(self):\n",
    "        return \"\\n\".join(str(individual) for individual in self.individuals)\n"
   ]
  },
  {
   "cell_type": "code",
   "execution_count": 49,
   "metadata": {},
   "outputs": [
    {
     "name": "stdout",
     "output_type": "stream",
     "text": [
      "Chromosoms: [[0, 0, 1, 1, 1, 1, 0, 1, 0, 1, 0, 1, 0, 1, 1, 0, 0, 0, 0, 0, 1, 0, 0, 1, 1, 0, 1, 0, 1, 1, 0, 0, 1, 1, 0, 0, 0, 0, 0, 0, 0, 1, 1, 0], [1, 0, 0, 0, 0, 1, 1, 1, 0, 0, 0, 1, 1, 0, 0, 1, 1, 1, 0, 0, 0, 1, 0, 1, 1, 1, 0, 1, 0, 1, 0, 0, 0, 1, 0, 0, 0, 0, 0, 0, 0, 0, 0, 0], [0, 0, 0, 0, 1, 1, 0, 1, 1, 0, 1, 0, 0, 0, 0, 0, 0, 0, 0, 1, 0, 1, 1, 0, 0, 0, 1, 1, 1, 0, 1, 0, 0, 0, 0, 0, 1, 1, 0, 0, 1, 0, 1, 0], [0, 0, 1, 0, 0, 1, 0, 0, 0, 0, 0, 0, 1, 0, 1, 1, 0, 1, 1, 1, 1, 1, 1, 1, 1, 0, 1, 0, 0, 1, 0, 1, 1, 0, 0, 1, 0, 0, 1, 0, 0, 0, 0, 0], [1, 1, 0, 1, 1, 1, 0, 0, 0, 0, 1, 1, 1, 1, 0, 0, 0, 1, 0, 1, 0, 0, 1, 0, 0, 1, 1, 0, 1, 1, 0, 0, 0, 1, 1, 1, 0, 1, 1, 0, 0, 1, 0, 0]] | Value in Decimal: [Decimal('-5.2081183495'), Decimal('0.5547402252'), Decimal('-8.9355203786'), Decimal('-7.1839908996'), Decimal('7.2059088036')]\n"
     ]
    }
   ],
   "source": [
    "c = Chromosom(10, 5, -10, 10)\n",
    "chromosoms = c.chromosoms\n",
    "decoded_chromosom = c.decoded_chromosom\n",
    "print(c)\n"
   ]
  },
  {
   "cell_type": "code",
   "execution_count": 53,
   "metadata": {},
   "outputs": [
    {
     "name": "stdout",
     "output_type": "stream",
     "text": [
      "X:  [[0.8492680481, -3.3891990317, -7.7753572923, 6.6147280565, 2.2560199554], [1.5858029638, -3.7142881957, -4.9872697199, -5.3391176929, -6.9035428087], [8.3800335088, -2.4441679657, 1.5618265491, -3.7799198056, 4.1254632399], [5.5397362691, -0.3917640367, -9.1573717465, -0.6147242978, 4.1060017929], [-5.1772240659, 9.1401908713, -9.9508639116, 1.0032140492, -6.6486224594]]\n",
      "Values:  [2094.3750588511957, 2108.1566248423765, 2093.6530327151413, 2089.018833029918, 2100.355733798105]\n"
     ]
    }
   ],
   "source": [
    "\n",
    "population = Population(5, 5, 10, -10, 10)\n",
    "\n",
    "func = bf.Schwefel(n_dimensions=5)\n",
    "\n",
    "X = population.getX()\n",
    "values = population(func)\n",
    "print(\"X: \", X)\n",
    "print(\"Values: \", values)\n",
    "\n"
   ]
  },
  {
   "cell_type": "code",
   "execution_count": null,
   "metadata": {},
   "outputs": [],
   "source": []
  }
 ],
 "metadata": {
  "kernelspec": {
   "display_name": "Python 3.12.9 ('OE')",
   "language": "python",
   "name": "python3"
  },
  "language_info": {
   "codemirror_mode": {
    "name": "ipython",
    "version": 3
   },
   "file_extension": ".py",
   "mimetype": "text/x-python",
   "name": "python",
   "nbconvert_exporter": "python",
   "pygments_lexer": "ipython3",
   "version": "3.12.9"
  },
  "orig_nbformat": 4,
  "vscode": {
   "interpreter": {
    "hash": "46e812baa124ab4b6c23c3ef5514d75c06ce825179299f90a1d80a9640fdf716"
   }
  }
 },
 "nbformat": 4,
 "nbformat_minor": 2
}
