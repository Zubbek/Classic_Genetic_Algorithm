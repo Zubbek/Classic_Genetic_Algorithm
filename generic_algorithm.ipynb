{
 "cells": [
  {
   "cell_type": "code",
   "execution_count": null,
   "metadata": {},
   "outputs": [],
   "source": [
    "import random\n",
    "from math import log2, ceil\n",
    "from decimal import Decimal\n",
    "\n",
    "class Population:\n",
    "    def __init__(self, variables_count, population_size, precision, start_, end_):\n",
    "        self.variables_count = variables_count\n",
    "        self.population_size = population_size\n",
    "        self.individuals = [Individual(precision, variables_count, start_, end_) for _ in range(self.population_size)]\n",
    "\n",
    "    def __str__(self):\n",
    "        return \"\\n\".join(str(individual) for individual in self.individuals)\n",
    "\n",
    "class Individual:\n",
    "    def __init__(self, precision, variables_count, start_, end_):\n",
    "        self.chromosom = Chromosom(precision, variables_count, start_, end_)\n",
    "        self.variables_count = variables_count\n",
    "\n",
    "    def __str__(self):\n",
    "        return f\"{self.chromosom}\"\n",
    "\n",
    "class Chromosom:\n",
    "    def __init__(self, precision, variables_count, start_, end_):\n",
    "        self.precision = precision\n",
    "        self.variables_count = variables_count\n",
    "        self.start_ = start_\n",
    "        self.end_ = end_\n",
    "        self.chromosom_len = ceil(self.precision * log2(self.end_ - self.start_))\n",
    "        self.chromosoms = self.generate_chromosom()\n",
    "        self.decoded_chromosom = self.decode_chromosom()\n",
    "\n",
    "    def generate_chromosom(self) -> list:\n",
    "      chromosoms = []\n",
    "      for i in range(self.variables_count):\n",
    "        chromosom = []\n",
    "        for i in range(self.chromosom_len):\n",
    "            chromosom.append(random.randint(0, 1))\n",
    "        chromosoms.append(chromosom)\n",
    "      return chromosoms\n",
    "\n",
    "    def decode_chromosom(self) -> list:\n",
    "      decoded_chromosom = []\n",
    "      for chromosom in self.chromosoms:\n",
    "        decimal_number = sum(bit * (2 ** i) for i, bit in enumerate(reversed(chromosom)))\n",
    "        decoded = self.start_ + decimal_number * (self.end_ - self.start_) / (2 ** self.chromosom_len - 1)\n",
    "        decoded_chromosom.append(Decimal(decoded).quantize(Decimal(10) ** -self.precision))\n",
    "      return decoded_chromosom\n",
    "    \n",
    "    def __str__(self):\n",
    "        return f\"Chromosoms: {self.chromosoms} | Value in Decimal: {self.decoded_chromosom}\"\n",
    "\n",
    "\n"
   ]
  },
  {
   "cell_type": "code",
   "execution_count": null,
   "metadata": {},
   "outputs": [],
   "source": [
    "c = Chromosom(10, 10, -10, 10)\n",
    "chromosoms = c.chromosoms\n",
    "print(chromosoms)\n",
    "decoded_chromosom = c.decoded_chromosom\n",
    "print(decoded_chromosom)\n",
    "print(c)"
   ]
  },
  {
   "cell_type": "code",
   "execution_count": null,
   "metadata": {},
   "outputs": [],
   "source": [
    "population = Population(1, 10, 10, -10, 10)\n",
    "print(population)"
   ]
  }
 ],
 "metadata": {
  "kernelspec": {
   "display_name": "Python 3.12.1 64-bit",
   "language": "python",
   "name": "python3"
  },
  "language_info": {
   "name": "python",
   "version": "3.12.1"
  },
  "orig_nbformat": 4,
  "vscode": {
   "interpreter": {
    "hash": "7500c3e1c7c786e4ba1e4b4eb7588219b4e35d5153674f92eb3a82672b534f6e"
   }
  }
 },
 "nbformat": 4,
 "nbformat_minor": 2
}
