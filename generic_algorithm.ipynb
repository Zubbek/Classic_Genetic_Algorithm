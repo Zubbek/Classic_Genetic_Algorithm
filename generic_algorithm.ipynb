{
 "cells": [
  {
   "cell_type": "code",
   "execution_count": 32,
   "metadata": {},
   "outputs": [],
   "source": [
    "import random\n",
    "from math import log2, ceil\n",
    "from decimal import Decimal\n",
    "import benchmark_functions as bf\n",
    "import scipy\n",
    "\n",
    "class Chromosom:\n",
    "    def __init__(self, precision, variables_count, start_, end_):\n",
    "        self.precision = precision\n",
    "        self.variables_count = variables_count\n",
    "        self.start_ = start_\n",
    "        self.end_ = end_\n",
    "        self.chromosom_len = ceil(self.precision * log2(self.end_ - self.start_))\n",
    "        self.chromosoms = self._generate_chromosom()\n",
    "        self.decoded_chromosom = self._decode_chromosom()\n",
    "\n",
    "    def _generate_chromosom(self) -> list:\n",
    "      chromosoms = []\n",
    "      for i in range(self.variables_count):\n",
    "        chromosom = []\n",
    "        for i in range(self.chromosom_len):\n",
    "            chromosom.append(random.randint(0, 1))\n",
    "        chromosoms.append(chromosom)\n",
    "      return chromosoms\n",
    "\n",
    "    def _decode_chromosom(self) -> list:\n",
    "      decoded_chromosom = []\n",
    "      for chromosom in self.chromosoms:\n",
    "        decimal_number = sum(bit * (2 ** i) for i, bit in enumerate(reversed(chromosom)))\n",
    "        decoded = self.start_ + decimal_number * (self.end_ - self.start_) / (2 ** self.chromosom_len - 1)\n",
    "        decoded_chromosom.append(Decimal(decoded).quantize(Decimal(10) ** -self.precision))\n",
    "      return decoded_chromosom\n",
    "    \n",
    "    def __str__(self):\n",
    "        return f\"Chromosoms: {self.chromosoms} | Value in Decimal: {self.decoded_chromosom}\"\n",
    "\n",
    "\n",
    "class Individual:\n",
    "    def __init__(self, precision, variables_count, start_, end_):\n",
    "        self.chromosom = Chromosom(precision, variables_count, start_, end_)\n",
    "        self.variables_count = variables_count\n",
    "\n",
    "    def __str__(self):\n",
    "        return f\"{self.chromosom}\"\n",
    "\n",
    "\n",
    "class Population:\n",
    "    def __init__(self, variables_count, population_size, precision, start_, end_):\n",
    "        self.variables_count = variables_count\n",
    "        self.population_size = population_size\n",
    "        self.individuals = [Individual(precision, variables_count, start_, end_) for _ in range(self.population_size)]\n",
    "\n",
    "    def __call__(self, func: any):\n",
    "        cell_values = []\n",
    "        for individual in (self.individuals):\n",
    "            values = individual.chromosom.decoded_chromosom\n",
    "            values = [float(x) for x in values]\n",
    "            cell_value = func(values)\n",
    "            cell_values.append(cell_value)\n",
    "        return cell_values\n",
    "\n",
    "    def __str__(self):\n",
    "        return \"\\n\".join(str(individual) for individual in self.individuals)\n"
   ]
  },
  {
   "cell_type": "code",
   "execution_count": 34,
   "metadata": {},
   "outputs": [
    {
     "name": "stdout",
     "output_type": "stream",
     "text": [
      "[[1, 0, 0, 0, 1, 0, 1, 0, 1, 1, 1, 0, 1, 1, 1, 0, 0, 1, 1, 0, 0, 0, 1, 1, 1, 0, 1, 1, 1, 1, 0, 1, 0, 0, 1, 1, 1, 0, 1, 1, 0, 0, 0, 1], [0, 1, 1, 0, 0, 0, 1, 1, 1, 1, 0, 1, 1, 1, 0, 1, 1, 1, 0, 1, 1, 0, 0, 1, 0, 1, 0, 0, 1, 1, 0, 1, 0, 1, 0, 1, 0, 1, 1, 0, 0, 0, 1, 0], [0, 1, 1, 1, 0, 1, 0, 0, 1, 1, 0, 1, 1, 0, 0, 0, 0, 0, 0, 1, 0, 0, 1, 0, 0, 0, 0, 1, 1, 1, 1, 1, 1, 0, 0, 0, 1, 0, 1, 1, 0, 0, 1, 0], [1, 0, 1, 0, 1, 0, 1, 1, 1, 1, 0, 0, 0, 0, 1, 1, 0, 0, 0, 1, 0, 0, 0, 1, 0, 0, 0, 1, 0, 1, 1, 1, 1, 1, 1, 0, 0, 1, 0, 1, 1, 0, 1, 1], [1, 0, 1, 1, 0, 0, 1, 1, 1, 1, 1, 0, 1, 0, 1, 0, 1, 1, 0, 1, 0, 0, 1, 0, 1, 0, 1, 1, 1, 0, 1, 0, 0, 1, 1, 1, 1, 1, 0, 1, 0, 1, 1, 1], [1, 1, 1, 0, 0, 1, 1, 1, 0, 1, 0, 1, 1, 1, 0, 0, 1, 1, 0, 0, 0, 1, 1, 1, 0, 1, 1, 0, 1, 0, 0, 1, 0, 1, 0, 1, 0, 0, 1, 0, 1, 0, 0, 0], [1, 0, 1, 1, 0, 1, 0, 0, 1, 0, 0, 0, 0, 1, 0, 1, 0, 0, 0, 1, 1, 1, 1, 1, 1, 1, 0, 1, 1, 1, 1, 0, 0, 0, 1, 1, 0, 0, 0, 1, 1, 1, 0, 1], [1, 1, 1, 1, 0, 1, 1, 0, 1, 1, 0, 1, 1, 0, 0, 0, 0, 0, 1, 1, 0, 0, 1, 0, 0, 1, 1, 1, 1, 1, 0, 0, 0, 1, 0, 0, 1, 0, 0, 0, 0, 1, 0, 1], [1, 1, 1, 0, 1, 1, 0, 0, 1, 1, 0, 0, 1, 1, 1, 1, 0, 0, 1, 0, 1, 1, 1, 1, 0, 1, 1, 0, 1, 1, 1, 0, 0, 0, 1, 0, 0, 0, 0, 0, 0, 0, 1, 1], [0, 1, 0, 0, 0, 0, 0, 0, 1, 0, 0, 0, 0, 0, 0, 1, 0, 1, 0, 0, 1, 1, 0, 1, 0, 1, 0, 1, 1, 0, 0, 0, 0, 0, 1, 0, 0, 0, 1, 0, 1, 0, 1, 0]]\n",
      "[Decimal('0.8540007343'), Decimal('-2.1979221081'), Decimal('-0.8715604267'), Decimal('3.4189046542'), Decimal('4.0560373407'), Decimal('8.0751888888'), Decimal('4.1031263685'), Decimal('9.2847281521'), Decimal('8.5007279279'), Decimal('-4.9605401227')]\n",
      "Chromosoms: [[1, 0, 0, 0, 1, 0, 1, 0, 1, 1, 1, 0, 1, 1, 1, 0, 0, 1, 1, 0, 0, 0, 1, 1, 1, 0, 1, 1, 1, 1, 0, 1, 0, 0, 1, 1, 1, 0, 1, 1, 0, 0, 0, 1], [0, 1, 1, 0, 0, 0, 1, 1, 1, 1, 0, 1, 1, 1, 0, 1, 1, 1, 0, 1, 1, 0, 0, 1, 0, 1, 0, 0, 1, 1, 0, 1, 0, 1, 0, 1, 0, 1, 1, 0, 0, 0, 1, 0], [0, 1, 1, 1, 0, 1, 0, 0, 1, 1, 0, 1, 1, 0, 0, 0, 0, 0, 0, 1, 0, 0, 1, 0, 0, 0, 0, 1, 1, 1, 1, 1, 1, 0, 0, 0, 1, 0, 1, 1, 0, 0, 1, 0], [1, 0, 1, 0, 1, 0, 1, 1, 1, 1, 0, 0, 0, 0, 1, 1, 0, 0, 0, 1, 0, 0, 0, 1, 0, 0, 0, 1, 0, 1, 1, 1, 1, 1, 1, 0, 0, 1, 0, 1, 1, 0, 1, 1], [1, 0, 1, 1, 0, 0, 1, 1, 1, 1, 1, 0, 1, 0, 1, 0, 1, 1, 0, 1, 0, 0, 1, 0, 1, 0, 1, 1, 1, 0, 1, 0, 0, 1, 1, 1, 1, 1, 0, 1, 0, 1, 1, 1], [1, 1, 1, 0, 0, 1, 1, 1, 0, 1, 0, 1, 1, 1, 0, 0, 1, 1, 0, 0, 0, 1, 1, 1, 0, 1, 1, 0, 1, 0, 0, 1, 0, 1, 0, 1, 0, 0, 1, 0, 1, 0, 0, 0], [1, 0, 1, 1, 0, 1, 0, 0, 1, 0, 0, 0, 0, 1, 0, 1, 0, 0, 0, 1, 1, 1, 1, 1, 1, 1, 0, 1, 1, 1, 1, 0, 0, 0, 1, 1, 0, 0, 0, 1, 1, 1, 0, 1], [1, 1, 1, 1, 0, 1, 1, 0, 1, 1, 0, 1, 1, 0, 0, 0, 0, 0, 1, 1, 0, 0, 1, 0, 0, 1, 1, 1, 1, 1, 0, 0, 0, 1, 0, 0, 1, 0, 0, 0, 0, 1, 0, 1], [1, 1, 1, 0, 1, 1, 0, 0, 1, 1, 0, 0, 1, 1, 1, 1, 0, 0, 1, 0, 1, 1, 1, 1, 0, 1, 1, 0, 1, 1, 1, 0, 0, 0, 1, 0, 0, 0, 0, 0, 0, 0, 1, 1], [0, 1, 0, 0, 0, 0, 0, 0, 1, 0, 0, 0, 0, 0, 0, 1, 0, 1, 0, 0, 1, 1, 0, 1, 0, 1, 0, 1, 1, 0, 0, 0, 0, 0, 1, 0, 0, 0, 1, 0, 1, 0, 1, 0]] | Value in Decimal: [Decimal('0.8540007343'), Decimal('-2.1979221081'), Decimal('-0.8715604267'), Decimal('3.4189046542'), Decimal('4.0560373407'), Decimal('8.0751888888'), Decimal('4.1031263685'), Decimal('9.2847281521'), Decimal('8.5007279279'), Decimal('-4.9605401227')]\n"
     ]
    }
   ],
   "source": [
    "c = Chromosom(10, 10, -10, 10)\n",
    "chromosoms = c.chromosoms\n",
    "print(chromosoms)\n",
    "decoded_chromosom = c.decoded_chromosom\n",
    "print(decoded_chromosom)\n",
    "print(c)"
   ]
  },
  {
   "cell_type": "code",
   "execution_count": 36,
   "metadata": {},
   "outputs": [
    {
     "name": "stdout",
     "output_type": "stream",
     "text": [
      "[2102.2061457799764, 2085.5720702051167, 2084.9012097744844, 2093.2766368648417, 2098.293210316485, 2101.792575038929, 2096.4749722782235, 2099.158975126744, 2097.116219460824, 2097.7511648103527]\n"
     ]
    }
   ],
   "source": [
    "\n",
    "population = Population(5, 10, 10, -10, 10)\n",
    "\n",
    "func = bf.Schwefel(n_dimensions=5)\n",
    "\n",
    "values = population(func)\n",
    "\n",
    "print(values)\n",
    "\n"
   ]
  },
  {
   "cell_type": "code",
   "execution_count": null,
   "metadata": {},
   "outputs": [],
   "source": []
  }
 ],
 "metadata": {
  "kernelspec": {
   "display_name": "Python 3.12.9 ('OE')",
   "language": "python",
   "name": "python3"
  },
  "language_info": {
   "codemirror_mode": {
    "name": "ipython",
    "version": 3
   },
   "file_extension": ".py",
   "mimetype": "text/x-python",
   "name": "python",
   "nbconvert_exporter": "python",
   "pygments_lexer": "ipython3",
   "version": "3.12.9"
  },
  "orig_nbformat": 4,
  "vscode": {
   "interpreter": {
    "hash": "46e812baa124ab4b6c23c3ef5514d75c06ce825179299f90a1d80a9640fdf716"
   }
  }
 },
 "nbformat": 4,
 "nbformat_minor": 2
}
